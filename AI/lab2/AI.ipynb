{
 "cells": [
  {
   "cell_type": "markdown",
   "id": "fbfe5ef1",
   "metadata": {},
   "source": [
    "# Лабораторная работа №2\n",
    "## Задание №1\n",
    "Напишите программы, которые создают следующие массивы NumPy:"
   ]
  },
  {
   "cell_type": "markdown",
   "id": "06ec46e8",
   "metadata": {},
   "source": [
    "1. Массив со значениями 1, 7, 13, 105. Посчитайте и выведите на экран размер\n",
    "памяти, который он занимает. Сохраните массив в текстовый и бинарный файлы.\n",
    "Затем загрузите его и выведите на экран."
   ]
  },
  {
   "cell_type": "code",
   "execution_count": 32,
   "id": "09f4356a",
   "metadata": {},
   "outputs": [],
   "source": [
    "import numpy as np"
   ]
  },
  {
   "cell_type": "code",
   "execution_count": 33,
   "id": "c786f6b0",
   "metadata": {},
   "outputs": [
    {
     "name": "stdout",
     "output_type": "stream",
     "text": [
      "16 байт\n",
      "[  1   7  13 105]\n"
     ]
    }
   ],
   "source": [
    "a = np.array([1, 7, 13, 105])\n",
    "print(a.nbytes, \"байт\")\n",
    "np.savetxt(\"1.txt\", a)\n",
    "np.save(\"1.npy\", a)\n",
    "b = np.load(\"1.npy\")\n",
    "print(b)"
   ]
  },
  {
   "cell_type": "markdown",
   "id": "fe13fdf9",
   "metadata": {},
   "source": [
    "2. Три массива: из 10 нулей, 10 единиц, 10 пятерок"
   ]
  },
  {
   "cell_type": "code",
   "execution_count": 34,
   "id": "22cafbdf",
   "metadata": {},
   "outputs": [
    {
     "name": "stdout",
     "output_type": "stream",
     "text": [
      "[0 0 0 0 0 0 0 0 0 0] [1 1 1 1 1 1 1 1 1 1] [5 5 5 5 5 5 5 5 5 5]\n"
     ]
    }
   ],
   "source": [
    "a = np.zeros(10, dtype=np.int64)\n",
    "b = np.ones(10, dtype=np.int64)\n",
    "c = np.full(10, 5, dtype=np.int64)\n",
    "print(a, b, c)"
   ]
  },
  {
   "cell_type": "markdown",
   "id": "005ae91a",
   "metadata": {},
   "source": [
    "3. Массив последовательности четных целых чисел от 30 до 70."
   ]
  },
  {
   "cell_type": "code",
   "execution_count": 35,
   "id": "2f2d8c65",
   "metadata": {},
   "outputs": [
    {
     "name": "stdout",
     "output_type": "stream",
     "text": [
      "[30 32 34 36 38 40 42 44 46 48 50 52 54 56 58 60 62 64 66 68 70]\n"
     ]
    }
   ],
   "source": [
    "a = np.arange(30, 72, 2)\n",
    "print(a)"
   ]
  },
  {
   "cell_type": "markdown",
   "id": "ca7a8aab",
   "metadata": {},
   "source": [
    "4. Массив из 10 элементов со значениями, равномерно распределенными между 5 и 50."
   ]
  },
  {
   "cell_type": "code",
   "execution_count": 36,
   "id": "5f98b9e3",
   "metadata": {},
   "outputs": [
    {
     "name": "stdout",
     "output_type": "stream",
     "text": [
      "[ 5 10 15 20 25 30 35 40 45 50]\n"
     ]
    }
   ],
   "source": [
    "a = np.linspace(5, 50, 10, dtype=np.int64)\n",
    "print(a)"
   ]
  },
  {
   "cell_type": "markdown",
   "id": "cabe079d",
   "metadata": {},
   "source": [
    "5. Массив 3x3x3 из 27 случайных чисел в диапазоне от 1 до 100."
   ]
  },
  {
   "cell_type": "code",
   "execution_count": 37,
   "id": "ec1108d9",
   "metadata": {},
   "outputs": [
    {
     "name": "stdout",
     "output_type": "stream",
     "text": [
      "[[[87 78 81]\n",
      "  [81 13 29]\n",
      "  [27 55 37]]\n",
      "\n",
      " [[51 54 47]\n",
      "  [84 96 99]\n",
      "  [79 30 84]]\n",
      "\n",
      " [[52 26 16]\n",
      "  [33 40 19]\n",
      "  [88 96 61]]]\n"
     ]
    }
   ],
   "source": [
    "a = np.random.randint(1, 101, (3, 3, 3))\n",
    "print(a)"
   ]
  },
  {
   "cell_type": "markdown",
   "id": "7d8d9f1a",
   "metadata": {},
   "source": [
    "6. Массив 3х4, заполненной значениями от 30 до 41."
   ]
  },
  {
   "cell_type": "code",
   "execution_count": 38,
   "id": "d3dd9ee3",
   "metadata": {},
   "outputs": [
    {
     "name": "stdout",
     "output_type": "stream",
     "text": [
      "[[30 31 32 33]\n",
      " [34 35 36 37]\n",
      " [38 39 40 41]]\n"
     ]
    }
   ],
   "source": [
    "a = np.arange(30, 42).reshape((3, 4))\n",
    "print(a)"
   ]
  },
  {
   "cell_type": "markdown",
   "id": "95455218",
   "metadata": {},
   "source": [
    "7. Массив 10x10, в котором элементы на границах равны 1, а внутри 0."
   ]
  },
  {
   "cell_type": "code",
   "execution_count": 39,
   "id": "47e752cf",
   "metadata": {},
   "outputs": [
    {
     "name": "stdout",
     "output_type": "stream",
     "text": [
      "[[1 1 1 1 1 1 1 1 1 1]\n",
      " [1 0 0 0 0 0 0 0 0 1]\n",
      " [1 0 0 0 0 0 0 0 0 1]\n",
      " [1 0 0 0 0 0 0 0 0 1]\n",
      " [1 0 0 0 0 0 0 0 0 1]\n",
      " [1 0 0 0 0 0 0 0 0 1]\n",
      " [1 0 0 0 0 0 0 0 0 1]\n",
      " [1 0 0 0 0 0 0 0 0 1]\n",
      " [1 0 0 0 0 0 0 0 0 1]\n",
      " [1 1 1 1 1 1 1 1 1 1]]\n"
     ]
    }
   ],
   "source": [
    "a = np.ones((10, 10), dtype=np.int64)\n",
    "a[1:-1, 1:-1] = 0\n",
    "print(a)"
   ]
  },
  {
   "cell_type": "markdown",
   "id": "39ad1a16",
   "metadata": {},
   "source": [
    "8. Массив 5x5 из нулей с элементами на главной диагонали равными 1, 2, 3, 4, 5."
   ]
  },
  {
   "cell_type": "code",
   "execution_count": 40,
   "id": "22534ed2",
   "metadata": {},
   "outputs": [
    {
     "name": "stdout",
     "output_type": "stream",
     "text": [
      "[[1 0 0 0 0]\n",
      " [0 2 0 0 0]\n",
      " [0 0 3 0 0]\n",
      " [0 0 0 4 0]\n",
      " [0 0 0 0 5]]\n"
     ]
    }
   ],
   "source": [
    "a = np.diag([1, 2, 3, 4, 5])\n",
    "print(a)"
   ]
  },
  {
   "cell_type": "markdown",
   "id": "89a282fa",
   "metadata": {},
   "source": [
    "9. Массив 4x4, в котором 0 и 1 расположены в шахматном порядке, с нулями на главной диагонали."
   ]
  },
  {
   "cell_type": "code",
   "execution_count": 41,
   "id": "476ceecf",
   "metadata": {},
   "outputs": [
    {
     "name": "stdout",
     "output_type": "stream",
     "text": [
      "[[0 1 0 1]\n",
      " [1 0 1 0]\n",
      " [0 1 0 1]\n",
      " [1 0 1 0]]\n"
     ]
    }
   ],
   "source": [
    "a = np.zeros((4, 4), dtype=np.int64)\n",
    "a[::2, 1::2] = 1\n",
    "a[1::2, ::2] = 1\n",
    "print(a)"
   ]
  },
  {
   "cell_type": "markdown",
   "id": "66721e6e",
   "metadata": {},
   "source": [
    "10. Массив, заполненный всеми днями марта 2017 года. Тип данных массива – дата"
   ]
  },
  {
   "cell_type": "code",
   "execution_count": 42,
   "id": "bcc271b2",
   "metadata": {},
   "outputs": [
    {
     "name": "stdout",
     "output_type": "stream",
     "text": [
      "['2017-03-01' '2017-03-02' '2017-03-03' '2017-03-04' '2017-03-05'\n",
      " '2017-03-06' '2017-03-07' '2017-03-08' '2017-03-09' '2017-03-10'\n",
      " '2017-03-11' '2017-03-12' '2017-03-13' '2017-03-14' '2017-03-15'\n",
      " '2017-03-16' '2017-03-17' '2017-03-18' '2017-03-19' '2017-03-20'\n",
      " '2017-03-21' '2017-03-22' '2017-03-23' '2017-03-24' '2017-03-25'\n",
      " '2017-03-26' '2017-03-27' '2017-03-28' '2017-03-29' '2017-03-30'\n",
      " '2017-03-31']\n"
     ]
    }
   ],
   "source": [
    "a = np.arange(np.datetime64('2017-03-01'), np.datetime64('2017-04-01'), dtype=np.datetime64)\n",
    "print(a)"
   ]
  },
  {
   "cell_type": "markdown",
   "id": "3e84546b",
   "metadata": {},
   "source": [
    "## Задание №2\n",
    "Напишите следующие программы, используя подходящие функции модуля NumPy:"
   ]
  },
  {
   "cell_type": "markdown",
   "id": "346fa16e",
   "metadata": {},
   "source": [
    "1. Дано два массива. Получите массив, состоящий из их общих элементов. Например, для массивов [0 10 20 40 60] и [10 30 40] ответом будет [10, 40]."
   ]
  },
  {
   "cell_type": "code",
   "execution_count": 43,
   "id": "c5633f56",
   "metadata": {},
   "outputs": [
    {
     "name": "stdout",
     "output_type": "stream",
     "text": [
      "[10 40]\n"
     ]
    }
   ],
   "source": [
    "a = np.array([0, 10, 20, 40, 60])\n",
    "b = np.array([10, 30, 40])\n",
    "c = np.intersect1d(a, b)\n",
    "print(c)"
   ]
  },
  {
   "cell_type": "markdown",
   "id": "c7f2e779",
   "metadata": {},
   "source": [
    "2. Дан массив. Получите массив его уникальных элементов.\n",
    "Исходный массив: [10 10 20 20 30 30]\n",
    "Массив его уникальных элементов: [10 20 30]\n",
    "Исходный массив:\n",
    "[[1 1]\n",
    "[2 3]]\n",
    "Массив его уникальных элементов: [1 2 3]"
   ]
  },
  {
   "cell_type": "code",
   "execution_count": 44,
   "id": "b65541f5",
   "metadata": {},
   "outputs": [
    {
     "name": "stdout",
     "output_type": "stream",
     "text": [
      "[1 2 3]\n"
     ]
    }
   ],
   "source": [
    "a = np.array([[1, 1],[2,3]])\n",
    "c = np.unique(a)\n",
    "print(c)"
   ]
  },
  {
   "cell_type": "markdown",
   "id": "eb30dccb",
   "metadata": {},
   "source": [
    "3. Дан массив. Получите два массива: его уникальные элементы и их частоты.\n",
    "Исходный массив: [10 10 20 10 20 20 20 30 30 50 40 40]\n",
    "Два массива: [10 20 30 40 50], [3 4 2 2 1]"
   ]
  },
  {
   "cell_type": "code",
   "execution_count": 45,
   "id": "6af52fda",
   "metadata": {},
   "outputs": [
    {
     "name": "stdout",
     "output_type": "stream",
     "text": [
      "[10 20 30 40 50] [3 4 2 2 1]\n"
     ]
    }
   ],
   "source": [
    "a = np.array([10, 10, 20, 10, 20, 20, 20, 30, 30, 50, 40, 40])\n",
    "unique, counts = np.unique(a, return_counts=True)\n",
    "print(unique, counts)"
   ]
  },
  {
   "cell_type": "markdown",
   "id": "9dbc767c",
   "metadata": {},
   "source": [
    "4. Дан массив. Получите массив путем повторения данного.\n",
    "Образец массива: [1, 2, 3, 4]\n",
    "Ожидаемый результат:\n",
    "1 повторение\n",
    "[1, 2, 3, 4]\n",
    "2 повторения\n",
    "[1, 2, 3, 4, 1, 2, 3, 4]\n",
    "3 повторения\n",
    "[1, 2, 3, 4, 1, 2, 3, 4, 1, 2, 3, 4]"
   ]
  },
  {
   "cell_type": "code",
   "execution_count": 46,
   "id": "c0f11e45",
   "metadata": {},
   "outputs": [
    {
     "name": "stdout",
     "output_type": "stream",
     "text": [
      "Число повторений: 3\n",
      "[1 2 3 4 1 2 3 4 1 2 3 4]\n"
     ]
    }
   ],
   "source": [
    "a = np.array([1, 2, 3, 4])\n",
    "n = int(input(\"Число повторений: \"))\n",
    "c = np.tile(a, n)\n",
    "print(c)"
   ]
  },
  {
   "cell_type": "markdown",
   "id": "ff073251",
   "metadata": {},
   "source": [
    "5. Дан массив, в котором имеются значения nan. Получите массив, удалив все значения\n",
    "nan.\n",
    "Исходный массив: [200. 300. nan nan nan 700.]\n",
    "После удаления значений nan: [200. 300. 700.]\n",
    "Исходный массив:\n",
    "[[1. 2. 3.]\n",
    "[nan 0. nan]\n",
    "[6. 7. nan]]\n",
    "После удаления значений nan: [1. 2. 3. 0. 6. 7.]"
   ]
  },
  {
   "cell_type": "code",
   "execution_count": 47,
   "id": "7641d460",
   "metadata": {},
   "outputs": [
    {
     "name": "stdout",
     "output_type": "stream",
     "text": [
      "[200. 300. 700.]\n"
     ]
    }
   ],
   "source": [
    "a = np.array([200., 300., np.nan, np.nan, np.nan, 700.])\n",
    "a = a[~np.isnan(a)]\n",
    "print(a)"
   ]
  },
  {
   "cell_type": "markdown",
   "id": "b4fcc815",
   "metadata": {},
   "source": [
    "6. Дан массив. Получите массив его k наименьших значений.\n",
    "Оригинальный массив: [1. 7. 8. 2. 0.1 3. 15. 2.5]\n",
    "Его 4 наименьших значения: [0.1 1. 2. 2.5]\n"
   ]
  },
  {
   "cell_type": "code",
   "execution_count": 48,
   "id": "bcba884d",
   "metadata": {},
   "outputs": [
    {
     "name": "stdout",
     "output_type": "stream",
     "text": [
      "Число наименьших значений: 4\n",
      "[0.1 1.  2.  2.5]\n"
     ]
    }
   ],
   "source": [
    "a = np.array([1., 7., 8., 2., 0.1, 3., 15., 2.5])\n",
    "k = int(input(\"Число наименьших значений: \"))\n",
    "a = np.sort(a)\n",
    "c = a[:k]\n",
    "print(c)"
   ]
  },
  {
   "cell_type": "markdown",
   "id": "3fbdcec3",
   "metadata": {},
   "source": [
    "7. Дан массив и некоторое число. Найдите ближайший по значению к числу элемент\n",
    "массива.\n",
    "Исходный массив: [0.5 1.8 2.1 3.5 4.87 5.13 6.49]\n",
    "Значение для сравнения: 3,09066280756759\n",
    "Ответ: 3.5"
   ]
  },
  {
   "cell_type": "code",
   "execution_count": 49,
   "id": "002bb18b",
   "metadata": {},
   "outputs": [
    {
     "name": "stdout",
     "output_type": "stream",
     "text": [
      "3.5\n"
     ]
    }
   ],
   "source": [
    "a = np.array([0.5, 1.8, 2.1, 3.5, 4.87, 5.13, 6.49])\n",
    "x =  3.09066280756759\n",
    "print(a[np.nanargmin(np.absolute(a - x))])"
   ]
  },
  {
   "cell_type": "markdown",
   "id": "c90fe477",
   "metadata": {},
   "source": [
    "8. Дано два массива со строками. Получите массив при помощи поэлементного\n",
    "объединения.\n",
    "1 массив: ['Python' 'PHP']\n",
    "2 массив: ['Java' 'C ++']\n",
    "Результат: ['Python Java' 'PHP C ++']"
   ]
  },
  {
   "cell_type": "code",
   "execution_count": 60,
   "id": "37952b2c",
   "metadata": {},
   "outputs": [
    {
     "name": "stdout",
     "output_type": "stream",
     "text": [
      "['Python Java' 'PHP C++']\n"
     ]
    }
   ],
   "source": [
    "a = np.array(['Python', 'PHP'], dtype=np.str_)\n",
    "b = np.array([' Java', ' C++'], dtype=np.str_)\n",
    "c = np.char.add(a, b)\n",
    "print(c)"
   ]
  },
  {
   "cell_type": "markdown",
   "id": "d02ef660",
   "metadata": {},
   "source": [
    "9. Дан массив строк. Получите массив с частотой встречаемости буквы «P».\n",
    "Оригинальный массив: ['Python' 'PHP' 'JS' ' examples' 'html']\n",
    "Количество 'P': [1 2 0 0 0]"
   ]
  },
  {
   "cell_type": "code",
   "execution_count": 84,
   "id": "eb723a13",
   "metadata": {},
   "outputs": [
    {
     "name": "stdout",
     "output_type": "stream",
     "text": [
      "[1 2 0 0 0]\n"
     ]
    }
   ],
   "source": [
    "a = np.array(['Python', 'PHP', 'JS', 'examples', 'html'], dtype=np.str_)\n",
    "print(np.char.count(a, 'P'))"
   ]
  },
  {
   "cell_type": "markdown",
   "id": "fcc79743",
   "metadata": {},
   "source": [
    "10. Найдите корни следующих полиномов:\n",
    "a. x^2 - 4х + 7\n",
    "b. x^4 - 11х^3 + 9х^2 + 11х - 10"
   ]
  },
  {
   "cell_type": "code",
   "execution_count": 62,
   "id": "c7e0d48a",
   "metadata": {},
   "outputs": [
    {
     "name": "stdout",
     "output_type": "stream",
     "text": [
      "[2.+1.73205081j 2.-1.73205081j]\n",
      "[10.+0.0000000e+00j -1.+0.0000000e+00j  1.+9.6357437e-09j\n",
      "  1.-9.6357437e-09j]\n"
     ]
    }
   ],
   "source": [
    "a = [1, -4, 7]\n",
    "print(np.roots(a))\n",
    "b = [1, -11, 9, 11, -10]\n",
    "print(np.roots(b))"
   ]
  },
  {
   "cell_type": "markdown",
   "id": "84c24409",
   "metadata": {},
   "source": [
    "## Задание №3\n",
    "Напишите программу, которая будет решать систему линейных уравнений вида:\n",
    "![](img/1.png)\n",
    "Коэффициенты и правую часть вводит пользователь. Программа выводит решение\n",
    "системы. Для нахождения решения используйте numpy.linalg.solve.\n",
    "Система не имеет решения (или имеет их бесконечно много), если определитель матрицы\n",
    "коэффициентов равен 0. В этом случае необходимо выводить соответствующее сообщение.\n",
    "Для нахождения определителя используйте функцию numpy.linalg.det."
   ]
  },
  {
   "cell_type": "code",
   "execution_count": 83,
   "id": "4e8fb854",
   "metadata": {},
   "outputs": [
    {
     "name": "stdout",
     "output_type": "stream",
     "text": [
      "Коэффициенты: 4 3 2 1\n",
      "Правая часть: 4 3\n",
      "Ответ:  [2.5] [-2.]\n"
     ]
    }
   ],
   "source": [
    "a = np.array(input(\"Коэффициенты: \").split(), dtype='f').reshape(2, 2)\n",
    "b = np.array(input(\"Правая часть: \").split(), dtype='f').reshape(2, 1)\n",
    "det = np.linalg.det(a)\n",
    "if det == 0:\n",
    "    print(\"Опеределитель матрицы нулевой\")\n",
    "else:\n",
    "    c = np.linalg.solve(a, b)\n",
    "    print(\"Ответ: \", *c)"
   ]
  }
 ],
 "metadata": {
  "kernelspec": {
   "display_name": "Python 3 (ipykernel)",
   "language": "python",
   "name": "python3"
  },
  "language_info": {
   "codemirror_mode": {
    "name": "ipython",
    "version": 3
   },
   "file_extension": ".py",
   "mimetype": "text/x-python",
   "name": "python",
   "nbconvert_exporter": "python",
   "pygments_lexer": "ipython3",
   "version": "3.10.7"
  }
 },
 "nbformat": 4,
 "nbformat_minor": 5
}
