{
 "cells": [
  {
   "cell_type": "markdown",
   "id": "fb2198d7",
   "metadata": {},
   "source": [
    "# Лабораторная работа №5\n",
    "## Графы"
   ]
  },
  {
   "cell_type": "markdown",
   "id": "0478bb3f",
   "metadata": {},
   "source": [
    "## Задание №1\n",
    "В\n",
    "примере\n",
    "алгоритма\n",
    "поиска\n",
    "в\n",
    "ширину\n",
    "из\n",
    "лекции\n",
    "(https://cloud.mail.ru/public/9yCy/LitbGAfEg) структура данных граф представлена\n",
    "словарем. Переделайте этот пример, заменив словарь на реализацию класса Graph из\n",
    "лекционных материалов."
   ]
  },
  {
   "cell_type": "code",
   "execution_count": 2,
   "id": "c4ed7093",
   "metadata": {},
   "outputs": [],
   "source": [
    "class Vertex:\n",
    "    def __init__(self, key):\n",
    "        self.id = key\n",
    "        self.connectedTo = {}\n",
    "\n",
    "    def addNeighbor(self, nbr, weight=0):\n",
    "        self.connectedTo[nbr] = weight\n",
    "\n",
    "    def __str__(self):\n",
    "        return str(self.id) + ' connectedTo: ' + str([x.id for x in self.connectedTo])\n",
    "\n",
    "    def getConnections(self):\n",
    "        return self.connectedTo.keys()\n",
    "\n",
    "    def getId(self):\n",
    "        return self.id\n",
    "\n",
    "    def getWeight(self, nbr):\n",
    "        return self.connectedTo[nbr]\n",
    "\n",
    "\n",
    "class Graph:\n",
    "    def __init__(self):\n",
    "        self.vertList = {}\n",
    "        self.numVertices = 0\n",
    "\n",
    "    def addVertex(self, key):\n",
    "        self.numVertices = self.numVertices + 1\n",
    "        newVertex = Vertex(key)\n",
    "        self.vertList[key] = newVertex\n",
    "        return newVertex\n",
    "\n",
    "    def getVertex(self, n):\n",
    "        if n in self.vertList:\n",
    "            return self.vertList[n]\n",
    "        else:\n",
    "            return None\n",
    "\n",
    "    def __contains__(self, n):\n",
    "        return n in self.vertList\n",
    "\n",
    "    def addEdge(self, f, t, cost=0):\n",
    "        if f not in self.vertList:\n",
    "            self.addVertex(f)\n",
    "        if t not in self.vertList:\n",
    "            self.addVertex(t)\n",
    "        self.vertList[f].addNeighbor(self.vertList[t], cost)\n",
    "\n",
    "    def getVertices(self):\n",
    "        return self.vertList.keys()\n",
    "\n",
    "    def __iter__(self):\n",
    "        return iter(self.vertList.values())"
   ]
  },
  {
   "cell_type": "code",
   "execution_count": 3,
   "id": "1f3730e5",
   "metadata": {},
   "outputs": [
    {
     "name": "stdout",
     "output_type": "stream",
     "text": [
      "alice is a mango seller!\n"
     ]
    },
    {
     "data": {
      "text/plain": [
       "True"
      ]
     },
     "execution_count": 3,
     "metadata": {},
     "output_type": "execute_result"
    }
   ],
   "source": [
    "def person_is_seller(name):\n",
    "      return name[0] == 'a'\n",
    "\n",
    "def search(name, searched = set()):\n",
    "    search_key = g.getVertex(name)\n",
    "    for person in search_key.getConnections():\n",
    "        if person not in searched:\n",
    "            if person_is_seller(person.getId()):\n",
    "                print(person.getId() + \" is a mango seller!\")\n",
    "                return True\n",
    "            else:\n",
    "                searched.add(person)\n",
    "                if search(person.getId(), searched):\n",
    "                     return True\n",
    "    return False\n",
    "\n",
    "g = Graph()\n",
    "for i in [\"you\", \"bob\", \"alice\", \"claire\", \"anuj\", \"peggy\", \"thom\", \"jonny\"]:\n",
    "    g.addVertex(i)\n",
    "g.addEdge(\"you\", \"alice\")\n",
    "g.addEdge(\"you\", \"bob\")\n",
    "g.addEdge(\"you\", \"claire\")\n",
    "g.addEdge(\"bob\", \"anuj\")\n",
    "g.addEdge(\"bob\", \"peggy\")\n",
    "g.addEdge(\"alice\", \"peggy\")\n",
    "g.addEdge(\"claire\", \"thom\")\n",
    "g.addEdge(\"claire\", \"jonny\")\n",
    "g.addEdge(\"jonny\", \"you\")\n",
    "search(\"you\")"
   ]
  },
  {
   "cell_type": "markdown",
   "id": "d7e41a3a",
   "metadata": {},
   "source": [
    "## Задание №2\n",
    "Реализуйте программу, которая по заданному в виде списка смежности графу строит\n",
    "обращённый граф (тоже в виде списка смежности). Обращённый граф получается\n",
    "изменением направления всех рёбер исходного графа. Используйте класс Graph из\n",
    "лекционных материалов."
   ]
  },
  {
   "cell_type": "code",
   "execution_count": 10,
   "id": "9caa5fbf",
   "metadata": {},
   "outputs": [
    {
     "name": "stdout",
     "output_type": "stream",
     "text": [
      "0 connectedTo: [1, 2]\n",
      "1 connectedTo: [3]\n",
      "2 connectedTo: [1]\n",
      "3 connectedTo: []\n",
      "\n",
      "Reverse:\n",
      "\n",
      "1 connectedTo: [0, 2]\n",
      "0 connectedTo: []\n",
      "2 connectedTo: [0]\n",
      "3 connectedTo: [1]\n"
     ]
    }
   ],
   "source": [
    "def reverse_graph(graph):\n",
    "    new_graph = Graph()\n",
    "    for vert in graph:\n",
    "        for neig in vert.getConnections():\n",
    "            new_graph.addEdge(neig.getId(), vert.getId())\n",
    "    return new_graph\n",
    "\n",
    "g = Graph()\n",
    "for i in range(4):\n",
    "    g.addVertex(i)\n",
    "g.addEdge(0, 1)\n",
    "g.addEdge(0, 2)\n",
    "g.addEdge(2, 1)\n",
    "g.addEdge(1, 3)\n",
    "for vert in g:\n",
    "    print(vert)\n",
    "\n",
    "print(\"\\nReverse:\\n\")\n",
    "\n",
    "for vert in reverse_graph(g):\n",
    "    print(vert)"
   ]
  },
  {
   "cell_type": "markdown",
   "id": "43b509de",
   "metadata": {},
   "source": [
    "## Задание №3\n",
    "Пусть у вас имеется следующий рецепт блинов: одно яйцо, одна чашка блинной смеси, одна\n",
    "столовая ложка растительного масла и 3/4 чашки молока. Чтобы нажарить блинов, вам\n",
    "нужно разогреть сковородку, смешать вместе все ингредиенты и выливать смесь по ложке\n",
    "на горячую сковороду. Когда блин начинает пузыриться, переверните его и дождитесь, пока нижняя сторона не станет золотистой. Перед тем, как приступить к поеданию блинов,\n",
    "полейте их сиропом. Весь процесс показан в виде графа.\n",
    "![](./img/31.png)\n",
    "Напишите программу, которая при помощи поиска в глубину (Depth-first search, DFS)\n",
    "проведет топологическую сортировку представленного графа и выдаст вариант корректной\n",
    "последовательности шагов. Например:\n",
    "![](./img/32.png)\n",
    "Используйте класс Graph из лекционных материалов."
   ]
  },
  {
   "cell_type": "code",
   "execution_count": 28,
   "id": "d1bbdd1d",
   "metadata": {},
   "outputs": [
    {
     "name": "stdout",
     "output_type": "stream",
     "text": [
      "milk -> egg -> oil -> mix -> griddle -> cup -> syrup -> turn -> eat -> "
     ]
    }
   ],
   "source": [
    "g = Graph()\n",
    "for i in [[\"milk\", \"mix\"], [\"egg\", \"mix\"], [\"oil\", \"mix\"], [\"mix\", \"cup\"], \\\n",
    "          [\"mix\", \"syrup\"], [\"syrup\", \"eat\"],[\"griddle\", \"cup\"], [\"cup\", \"turn\"], [\"turn\", \"eat\"]]:\n",
    "    for j in  i[1:]:\n",
    "        g.addEdge(i[0], j)\n",
    "        \n",
    "def first_search(graph, start, end, searched = None):\n",
    "    if not searched:\n",
    "        searched = set()\n",
    "    global number\n",
    "    if start == end: \n",
    "        return True\n",
    "    if start in searched: \n",
    "        return False\n",
    "\n",
    "    searched.add(start)\n",
    "\n",
    "    for newstart in graph.getVertex(start).getConnections():\n",
    "        if newstart not in searched:\n",
    "            number += 1\n",
    "            search = first_search(graph, newstart.getId(), end, searched)\n",
    "            if search: \n",
    "                return True\n",
    "    return False\n",
    "\n",
    "graph_sort = {}\n",
    "\n",
    "for vert in g:\n",
    "    number = 0\n",
    "    first_search(g, vert.getId(), \"eat\")\n",
    "    graph_sort[vert.getId()] = number\n",
    "    \n",
    "for n, c in sorted(graph_sort.items(), key=lambda x:x[1], reverse=True):\n",
    "    print(n, end=\" -> \")"
   ]
  },
  {
   "cell_type": "markdown",
   "id": "6fe89b43",
   "metadata": {},
   "source": [
    "## Задание №4\n",
    "У вас имеется список городов и набор автобусных маршрутов между ними. Маршруты\n",
    "однонаправленные, т.е. маршрут вида «город А – город Б» означает, что можно поехать из\n",
    "города А в город Б, а обратного проезда нет.\n",
    "Пользователь вводит два города. Ваша программа должна определить минимальный по\n",
    "количеству километров возможный путь от первого до второго города, или сообщение, что\n",
    "пути между городами нет. Нужно вывести как количество километров, так и получившейся\n",
    "путь.\n",
    "Для решения задачи используйте алгоритм Дейкстры и класс Graph из лекционных\n",
    "материалов. Список городов и маршрутов возьмите согласно вашему варианту. Расстояние\n",
    "между городами найдите в интернете самостоятельно.\n",
    "Также\n",
    "необходимо нарисовать\n",
    "граф\n",
    "вашего варианта\n",
    "(например,\n",
    "здесь\n",
    "https://graphonline.ru/) и приложить его в ваш отчет.\n",
    "\n"
   ]
  },
  {
   "cell_type": "markdown",
   "id": "9f072c62",
   "metadata": {},
   "source": [
    "Вариант 4.\n",
    "\n",
    "Города:\n",
    "\n",
    "Мариинск, Яя, Яшкино, Юрга, Анжеро-Судженск, Кемерово, Томск.\n",
    "\n",
    "Маршруты:\n",
    "\n",
    "Мариинск – Яя\n",
    "\n",
    "Мариинск – Яшкино\n",
    "\n",
    "Мариинск – Юрга\n",
    "\n",
    "Мариинск – Анжеро-Судженск\n",
    "\n",
    "Яя – Кемерово\n",
    "\n",
    "Яшкино – Яя\n",
    "\n",
    "Яшкино – Томск\n",
    "\n",
    "Юрга – Яшкино\n",
    "\n",
    "Юрга – Томск\n",
    "\n",
    "Юрга – Анжеро-Судженск\n",
    "\n",
    "Томск – Кемерово"
   ]
  },
  {
   "cell_type": "code",
   "execution_count": 103,
   "id": "12da8c7b",
   "metadata": {},
   "outputs": [
    {
     "name": "stdout",
     "output_type": "stream",
     "text": [
      "Найден следующий лучший маршрут, расстояние: 370 км.\n",
      "Мариинск -> Юрга -> Томск\n"
     ]
    }
   ],
   "source": [
    "import sys\n",
    "\n",
    "g = Graph()\n",
    "for i in [['Мариинск', 'Яя', 108], \\\n",
    "          ['Мариинск', 'Яшкино', 224], \\\n",
    "          ['Мариинск', 'Юрга', 262], \\\n",
    "          ['Мариинск', 'Анжеро-Судженск', 138], \\\n",
    "          ['Яя', 'Кемерово', 129], \\\n",
    "          ['Яшкино', 'Яя', 128], \\\n",
    "          ['Яшкино', 'Томск', 147], \\\n",
    "          ['Юрга', 'Яшкино', 44], \\\n",
    "          ['Юрга', 'Томск', 108], \\\n",
    "          ['Юрга', 'Анжеро-Судженск', 134], \\\n",
    "          ['Томск', 'Кемерово', 204]]:\n",
    "    for j in  i[1:]:\n",
    "        g.addEdge(i[0], i[1], i[2])\n",
    "\n",
    "def dijkstra(graph, start):\n",
    "    unvisited_nodes = list(graph.getVertices())\n",
    "    shortest_path = {}\n",
    "    previous_nodes = {}\n",
    "    max_value = sys.maxsize\n",
    "    for node in unvisited_nodes:\n",
    "        shortest_path[node] = max_value\n",
    "    shortest_path[start] = 0\n",
    "    while unvisited_nodes:\n",
    "        current_min_node = None\n",
    "        for node in unvisited_nodes:\n",
    "            if current_min_node == None:\n",
    "                current_min_node = node\n",
    "            elif shortest_path[node] < shortest_path[current_min_node]:\n",
    "                current_min_node = node\n",
    "        neighbors = [x.getId() for x in graph.getVertex(current_min_node).getConnections()]\n",
    "        for neighbor in neighbors:\n",
    "            tentative_value = shortest_path[current_min_node] + graph.getVertex(current_min_node).getWeight(graph.getVertex(neighbor))\n",
    "            if tentative_value < shortest_path[neighbor]:\n",
    "                shortest_path[neighbor] = tentative_value\n",
    "                previous_nodes[neighbor] = current_min_node\n",
    "        unvisited_nodes.remove(current_min_node)\n",
    "    return previous_nodes, shortest_path\n",
    "\n",
    "def print_result(previous_nodes, shortest_path, start_node, target_node):\n",
    "    path = []\n",
    "    node = target_node\n",
    "    \n",
    "    while node != start_node:\n",
    "        path.append(node)\n",
    "        node = previous_nodes[node]\n",
    " \n",
    "    path.append(start_node)\n",
    "    \n",
    "    print(\"Найден следующий лучший маршрут, расстояние: {} км.\".format(shortest_path[target_node]))\n",
    "    print(\" -> \".join(reversed(path)))\n",
    "    \n",
    "previous_nodes, shortest_path = dijkstra(g, 'Мариинск')\n",
    "print_result(previous_nodes, shortest_path, 'Мариинск', 'Томск')"
   ]
  },
  {
   "cell_type": "markdown",
   "id": "de430d31",
   "metadata": {},
   "source": [
    "![](./img/4.png)"
   ]
  }
 ],
 "metadata": {
  "kernelspec": {
   "display_name": "Python 3 (ipykernel)",
   "language": "python",
   "name": "python3"
  },
  "language_info": {
   "codemirror_mode": {
    "name": "ipython",
    "version": 3
   },
   "file_extension": ".py",
   "mimetype": "text/x-python",
   "name": "python",
   "nbconvert_exporter": "python",
   "pygments_lexer": "ipython3",
   "version": "3.11.0"
  }
 },
 "nbformat": 4,
 "nbformat_minor": 5
}
