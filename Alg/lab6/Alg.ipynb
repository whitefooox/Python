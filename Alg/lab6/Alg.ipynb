{
 "cells": [
  {
   "cell_type": "markdown",
   "id": "94108950",
   "metadata": {},
   "source": [
    "# Лабораторная работа №6\n",
    "## Жадная стратегия и динамическое программирование"
   ]
  },
  {
   "cell_type": "markdown",
   "id": "cb61836c",
   "metadata": {},
   "source": [
    "## Задание  №1\n",
    "Предположим, что вы собираетесь в турпоход. У вас есть рюкзак, емкость которого\n",
    "составляет 6 фунтов, и список предметов, которые вы можете положить с собой в рюкзак.\n",
    "У каждого предмета есть вес и ценность. Чем выше ценность, тем важнее для вас предмет.\n",
    "Нарисуйте и вручную заполните таблицу, которая даст оптимальный набор предметов для\n",
    "похода и общую ценность получившегося рюкзака. Ориентируйтесь на алгоритм\n",
    "динамического программирования, описанный в лекции.\n",
    "Список предметов возьмите согласно вашему варианту"
   ]
  },
  {
   "cell_type": "markdown",
   "id": "48a4aa1f",
   "metadata": {},
   "source": [
    "Вариант 4.\n",
    "1. вода, 2 фунта, 6;\n",
    "2. книга, 1 фунт, 3;\n",
    "3. еда, 4 фунта, 9;\n",
    "4. куртка, 1 фунт, 5;\n",
    "5. камера, 3 фунта, 6 "
   ]
  },
  {
   "cell_type": "markdown",
   "id": "2a061fdf",
   "metadata": {},
   "source": [
    "| |1|2|3|4|5|6|\n",
    "|-|-|-|-|-|-|-|\n",
    "|вода| |вода(6)|вода(6)|вода(6)|вода(6)|вода(6)|\n",
    "|книга|книга(3)|вода(6)|вода(6)+книга(3)|вода(6)+книга(3)|вода(6)+книга(3)|вода(6)+книга(3)|\n",
    "|еда|книга(3)|вода(6)|вода(6)+книга(3)|еда(9)|еда(9)+книга(3)|еда(9)+вода(6)|\n",
    "|куртка|куртка(5)|куртка(5)+книга(3)|куртка(5)+вода(6)|вода(6)+книга(3)+куртка(5)|еда(9)+куртка(5)|еда(9)+книга(3)+куртка(5)|\n",
    "|камера|куртка(5)|куртка(5)+книга(3)|куртка(5)+вода(6)|вода(6)+книга(3)+куртка(5)|камера(6)+куртка(5)+книга(3)|куртка(5)+вода(6)+камера(6)|"
   ]
  },
  {
   "cell_type": "markdown",
   "id": "abe92c61",
   "metadata": {},
   "source": [
    "## Задание  №2\n",
    "Напишите программу, которая моделирует задачу о рюкзаке. Пользователь вводит объем\n",
    "рюкзака и список предметов с указанием их веса и ценности. Вам необходимо подобрать\n",
    "набор предметов максимальной ценности, которые поместятся в рюкзаке. Реализуйте три\n",
    "варианта решения этой задачи:\n",
    "\n",
    "1. Полный перебор\n",
    "2. Жадный алгоритм\n",
    "3. Динамическое программирование\n",
    "\n",
    "Укажите вычислительная сложность (в O-нотации) для каждого алгоритма. Постройте\n",
    "графики возрастания времени выполнения алгоритмов при увеличении входных данных.\n",
    "Приведите примеры входных данных, когда жадный алгоритм дает оптимальное решение\n",
    "и когда дает неоптимальное решение."
   ]
  },
  {
   "cell_type": "code",
   "execution_count": 1,
   "id": "68eeab40",
   "metadata": {},
   "outputs": [],
   "source": [
    "from itertools import chain, combinations\n",
    "import random\n",
    "import timeit\n",
    "import matplotlib.pyplot as plt"
   ]
  },
  {
   "cell_type": "code",
   "execution_count": 2,
   "id": "4d86f43e",
   "metadata": {},
   "outputs": [],
   "source": [
    "backpack = [\n",
    "    ['вода', 2, 6],\n",
    "    ['книга', 1, 3],\n",
    "    ['еда', 4, 9],\n",
    "    ['куртка', 1, 5],\n",
    "    ['камера', 3, 6]\n",
    "]\n",
    "\n",
    "backpack_size = 6"
   ]
  },
  {
   "cell_type": "code",
   "execution_count": 3,
   "id": "bc7a13c7",
   "metadata": {},
   "outputs": [
    {
     "name": "stdout",
     "output_type": "stream",
     "text": [
      "17\n",
      "['книга', 'еда', 'куртка']\n"
     ]
    }
   ],
   "source": [
    "def combo(l):\n",
    "    result = []\n",
    "    for i in  chain.from_iterable(combinations(l, r) for r in range(1, len(l)+1)):\n",
    "        result.append([*i])\n",
    "    return result\n",
    "\n",
    "def full_search(backpack, backpack_size):\n",
    "    max_value = 0\n",
    "    max_items = None\n",
    "    comboo = combo(backpack)\n",
    "    for comb in comboo:\n",
    "        capacity = 0\n",
    "        value = 0\n",
    "        items = []\n",
    "        for item in comb:\n",
    "            capacity += item[1]\n",
    "            value += item[2]\n",
    "            items.append(item[0])\n",
    "        if value >= max_value and capacity <= backpack_size:\n",
    "            max_value = value\n",
    "            max_items = items\n",
    "    del comboo\n",
    "    print(max_value)\n",
    "    print(max_items)\n",
    "            \n",
    "full_search(backpack, backpack_size)"
   ]
  },
  {
   "cell_type": "code",
   "execution_count": 4,
   "id": "4eb60774",
   "metadata": {},
   "outputs": [
    {
     "name": "stdout",
     "output_type": "stream",
     "text": [
      "14\n",
      "['еда', 'куртка']\n"
     ]
    }
   ],
   "source": [
    "def greedy_algorithm(backpack, backpack_size):\n",
    "    temp_value = 0\n",
    "    temp_capacity = 0\n",
    "    temp_items = []\n",
    "    for item in backpack:\n",
    "        if item[1] + temp_capacity <= backpack_size:\n",
    "            temp_capacity += item[1]\n",
    "            temp_value += item[2]\n",
    "            temp_items.append(item[0])\n",
    "        elif item[1] <= backpack_size and item[2] >= temp_value:\n",
    "            temp_capacity = item[1]\n",
    "            temp_value = item[2]\n",
    "            temp_items = [item[0]]\n",
    "    print(temp_value)\n",
    "    print(temp_items)\n",
    "    \n",
    "greedy_algorithm(backpack, backpack_size)"
   ]
  },
  {
   "cell_type": "code",
   "execution_count": 5,
   "id": "fbda200d",
   "metadata": {},
   "outputs": [
    {
     "name": "stdout",
     "output_type": "stream",
     "text": [
      "17\n",
      "['куртка', 'еда', 'книга']\n"
     ]
    }
   ],
   "source": [
    "def dynamic_algorithm(backpack, backpack_size):\n",
    "    name = [item[0] for item in backpack]\n",
    "    n = len(backpack)\n",
    "    w = [item[1] for item in backpack]\n",
    "    p = [item[2] for item in backpack]\n",
    "    bag = [[0] * (backpack_size + 1) for _ in range(n + 1)]\n",
    "    for i in range(1, n + 1):\n",
    "        for k in range(1, backpack_size + 1):\n",
    "            if k >= w[i-1]:\n",
    "                bag[i][k] = max(bag[i-1][k], bag[i-1][k-w[i-1]] + p[i-1])\n",
    "            else:\n",
    "                bag[i][k] = bag[i-1][k]\n",
    "    temp_items = []\n",
    "    k = backpack_size\n",
    "    temp_value = 0\n",
    "    for i in range(n, 0, -1):\n",
    "        if bag[i][k] != bag[i-1][k]:\n",
    "            temp_items.append(name[i-1])\n",
    "            k -= w[i-1]\n",
    "            temp_value = temp_value + p[i-1]\n",
    "    print(temp_value)\n",
    "    print(temp_items)\n",
    "        \n",
    "dynamic_algorithm(backpack, backpack_size)"
   ]
  },
  {
   "cell_type": "code",
   "execution_count": 6,
   "id": "3355d096",
   "metadata": {},
   "outputs": [
    {
     "name": "stdout",
     "output_type": "stream",
     "text": [
      "4\n",
      "['test']\n",
      "4\n",
      "['test']\n",
      "15\n",
      "['test', 'test']\n",
      "20\n",
      "['test', 'test', 'test']\n",
      "9\n",
      "['test', 'test']\n",
      "15\n",
      "['test', 'test', 'test']\n",
      "11\n",
      "['test', 'test', 'test']\n",
      "41\n",
      "['test', 'test', 'test', 'test', 'test']\n",
      "15\n",
      "['test', 'test', 'test']\n",
      "52\n",
      "['test', 'test', 'test', 'test', 'test', 'test']\n",
      "13\n",
      "['test', 'test', 'test']\n",
      "60\n",
      "['test', 'test', 'test', 'test', 'test', 'test']\n",
      "20\n",
      "['test', 'test']\n",
      "60\n",
      "['test', 'test', 'test', 'test', 'test', 'test']\n",
      "7\n",
      "['test']\n",
      "10\n",
      "['test']\n",
      "23\n",
      "['test', 'test', 'test', 'test', 'test']\n"
     ]
    },
    {
     "data": {
      "image/png": "[encoded data removed]",
      "text/plain": [
       "<Figure size 1200x300 with 3 Axes>"
      ]
     },
     "metadata": {},
     "output_type": "display_data"
    }
   ],
   "source": [
    "example_range = [1, 5, 10, 50, 100, 500, 1000]\n",
    "example_items = []\n",
    "max_size = 6\n",
    "time = [[], [], []]\n",
    "for i in example_range:\n",
    "    example_items = []\n",
    "    for j in range(i):\n",
    "        example_items.append(['test', random.randint(1, max_size), random.randint(1, 10)])\n",
    "    time[1].append(timeit.timeit(f\"greedy_algorithm({example_items}, {max_size})\", number=1, globals=globals()))\n",
    "    time[2].append(timeit.timeit(f\"dynamic_algorithm({example_items}, {max_size})\", number=1, globals=globals()))\n",
    "for i in example_range[:3]:\n",
    "    example_items = []\n",
    "    for j in range(i):\n",
    "        example_items.append(['test', random.randint(1, max_size), random.randint(1, 10)])\n",
    "    time[0].append(timeit.timeit(f\"full_search({example_items}, {max_size})\", number=1, globals=globals()))\n",
    "    \n",
    "fig, axes = plt.subplots(nrows=1, ncols=3, figsize=(12,3))\n",
    "ax1, ax2, ax3 = axes\n",
    "ax1.plot(example_range[:3], time[0])\n",
    "ax2.plot(example_range, time[1])\n",
    "ax3.plot(example_range, time[2])\n",
    "ax1.set_title('Полный перебор O(2^n)')\n",
    "ax2.set_title('Жадный алгоритм O(n^2)')\n",
    "ax3.set_title('Динамическое программирование')\n",
    "plt.show()"
   ]
  },
  {
   "cell_type": "markdown",
   "id": "200767a5",
   "metadata": {},
   "source": [
    "## Задание  №3"
   ]
  },
  {
   "cell_type": "markdown",
   "id": "4669c91f",
   "metadata": {},
   "source": [
    "Нарисуйте и вручную заполните таблицу для вычисления самой длинной общей подстроки\n",
    "между строками blue и clue. Ориентируйтесь на алгоритм динамического\n",
    "программирования, описанный в лекции."
   ]
  },
  {
   "cell_type": "markdown",
   "id": "2f79fb16",
   "metadata": {},
   "source": [
    "|   | b | l | u | e |\n",
    "|---|---|---|---|---|\n",
    "| c | 0 | 0 | 0 | 0 |\n",
    "| l | 0 | 1 | 0 | 0 |\n",
    "| u | 0 | 0 | 2 | 0 |\n",
    "| e | 0 | 0 | 0 | 3 |"
   ]
  },
  {
   "cell_type": "markdown",
   "id": "76b8358c",
   "metadata": {},
   "source": [
    "## Задание  №4"
   ]
  },
  {
   "cell_type": "markdown",
   "id": "814d5703",
   "metadata": {},
   "source": [
    "Напишите программу, реализующую алгоритм нахождения самой длинной общей\n",
    "подстроки из лекции. Пользователь вводит слово с ошибкой и далее список похожих слов.\n",
    "Ваша программа должна вывести самое похожее слово согласно данному алгоритму."
   ]
  },
  {
   "cell_type": "code",
   "execution_count": 7,
   "id": "2816d538",
   "metadata": {},
   "outputs": [
    {
     "name": "stdout",
     "output_type": "stream",
     "text": [
      "Слово:  hish\n",
      "fish <-> 3\n",
      "hosh <-> 2\n",
      "diff <-> 1\n",
      "heee <-> 1\n",
      "fortt <-> 0\n",
      "Ответ:  fish\n"
     ]
    }
   ],
   "source": [
    "word = 'hish'\n",
    "similar = ['fish', 'fortt', 'diff', 'hosh', 'heee']\n",
    "\n",
    "def substring(word1, word2):\n",
    "    cell = [[0] * len(word2) for _ in range(len(word1))]\n",
    "    count = 0\n",
    "    last_index = None\n",
    "    for i in range(len(word1)):\n",
    "        for j in range(len(word2)):\n",
    "            if word1[i] == word2[j] and i == j:\n",
    "                cell[i][j] = cell[i - 1][j - 1] + 1\n",
    "                if cell[i][j] > count:\n",
    "                    count = cell[i][j]\n",
    "                    last_index = i\n",
    "    #return count, word[last_index - count  + 1: last_index + 1]\n",
    "    return count\n",
    "\n",
    "sub = {}\n",
    "for w in similar:\n",
    "    sub[w] = substring(word, w)\n",
    "\n",
    "print(\"Слово: \", word)\n",
    "sorted_sub = sorted(sub.items(), key=lambda x: -x[1])\n",
    "for name, count in sorted_sub:\n",
    "    print(name, count, sep=' <-> ')\n",
    "\n",
    "print(\"Ответ: \", sorted_sub[0][0])"
   ]
  },
  {
   "cell_type": "markdown",
   "id": "ff46b7c8",
   "metadata": {},
   "source": [
    "## Задание  №5"
   ]
  },
  {
   "cell_type": "markdown",
   "id": "9c41aad4",
   "metadata": {},
   "source": [
    "Напишите программу, реализующую алгоритм нахождения самой длинной общей\n",
    "подпоследовательности из лекции. Пользователь вводит слово с ошибкой и далее список\n",
    "похожих слов. Ваша программа должна вывести самое похожее слово согласно данному\n",
    "алгоритму."
   ]
  },
  {
   "cell_type": "code",
   "execution_count": 8,
   "id": "38e4772c",
   "metadata": {},
   "outputs": [
    {
     "name": "stdout",
     "output_type": "stream",
     "text": [
      "Слово:  fish\n",
      "fosh <-> 3\n",
      "hosh <-> 2\n",
      "fortt <-> 1\n",
      "diff <-> 1\n",
      "heee <-> 1\n",
      "Ответ:  fosh\n"
     ]
    }
   ],
   "source": [
    "word = 'fish'\n",
    "similar = ['fortt', 'diff', 'hosh', 'heee', 'fosh']\n",
    "\n",
    "def substring(word1, word2):\n",
    "    cell = [[0] * len(word2) for _ in range(len(word1))]\n",
    "    for i in range(len(word1)):\n",
    "        for j in range(len(word2)):\n",
    "            if word1[i] == word2[j]:\n",
    "                cell[i][j] = cell[i - 1][j - 1] + 1\n",
    "            else:\n",
    "                cell[i][j] = max(cell[i - 1][j], cell[i][j - 1])\n",
    "    return cell[len(word1) - 1][len(word2) - 1]\n",
    "\n",
    "sub = {}\n",
    "for w in similar:\n",
    "    sub[w] = substring(word, w)\n",
    "\n",
    "print(\"Слово: \", word)\n",
    "sorted_sub = sorted(sub.items(), key=lambda x: -x[1])\n",
    "for name, count in sorted_sub:\n",
    "    print(name, count, sep=' <-> ')\n",
    "\n",
    "print(\"Ответ: \", sorted_sub[0][0])"
   ]
  },
  {
   "cell_type": "markdown",
   "id": "cbd8b3a5",
   "metadata": {},
   "source": [
    "## Задание  №6"
   ]
  },
  {
   "cell_type": "markdown",
   "id": "458c822d",
   "metadata": {},
   "source": [
    "-"
   ]
  },
  {
   "cell_type": "markdown",
   "id": "381e0a10",
   "metadata": {},
   "source": [
    "## Задание  №7"
   ]
  },
  {
   "cell_type": "markdown",
   "id": "e1e554a7",
   "metadata": {},
   "source": [
    "Есть купюры и монеты номиналами: 1, 3, 4, 10, 50, 100. В банкомате неограниченное\n",
    "количество купюр и монет каждого номинала. Мы хотим снять со счета n рублей. Нужно\n",
    "вывести на экран минимальный набор купюр и монет, который может выдать банкомат,\n",
    "чтобы сумма получилась ровно n.\n",
    "1. Напишите жадный алгоритм решения задачи. Подсказка: выбирайте купюры и\n",
    "монеты по убыванию номинала.\n",
    "2. Используйте динамическое программирование, чтобы рассчитать минимальное\n",
    "количество требуемых купюр и монет.\n",
    "3. Приведите пример входных данных, когда жадный алгоритм выдает не оптимальное\n",
    "решение."
   ]
  },
  {
   "cell_type": "code",
   "execution_count": 9,
   "id": "4f5bc33a",
   "metadata": {},
   "outputs": [
    {
     "name": "stdout",
     "output_type": "stream",
     "text": [
      "Деняк: 123\n"
     ]
    }
   ],
   "source": [
    "denominations = [1, 3, 4, 10, 50, 100]\n",
    "n = int(input('Деняк: '))"
   ]
  },
  {
   "cell_type": "code",
   "execution_count": 10,
   "id": "6940ee77",
   "metadata": {},
   "outputs": [
    {
     "name": "stdout",
     "output_type": "stream",
     "text": [
      "{100: 1, 10: 2, 3: 1}\n"
     ]
    }
   ],
   "source": [
    "def greedy_algorithm(demoninations, n):\n",
    "    result = {}\n",
    "    for denomination in denominations[::-1]:\n",
    "        count = n // denomination\n",
    "        if count > 0:\n",
    "            result[denomination] = count\n",
    "        n %= denomination\n",
    "    return result\n",
    "        \n",
    "print(greedy_algorithm(denominations, n))"
   ]
  },
  {
   "cell_type": "code",
   "execution_count": 11,
   "id": "01ef1770",
   "metadata": {},
   "outputs": [
    {
     "name": "stdout",
     "output_type": "stream",
     "text": [
      "{3: 1, 10: 2, 100: 1}\n"
     ]
    }
   ],
   "source": [
    "def dynamic_algorithm(demoninations, n):\n",
    "    lookup = [float(\"inf\")] * (n + 1)\n",
    "    lookup[0] = 0\n",
    "    for m in range(1, n + 1):\n",
    "        for i in range(len(demoninations)):\n",
    "            if m >= demoninations[i] and lookup[m - demoninations[i]] + 1 < lookup[m]:\n",
    "                lookup[m] = lookup[m - demoninations[i]] + 1\n",
    "    result = {}\n",
    "    while (n > 0):\n",
    "        for i in range(len(demoninations)):\n",
    "            if lookup[n - demoninations[i]] == lookup[n] - 1:\n",
    "                n -= demoninations[i]\n",
    "                if demoninations[i] in result:\n",
    "                    result[demoninations[i]] += 1\n",
    "                else:\n",
    "                    result[demoninations[i]] = 1\n",
    "                break\n",
    "    return result\n",
    "\n",
    "print(dynamic_algorithm(denominations, n))"
   ]
  },
  {
   "cell_type": "markdown",
   "id": "339b5e07",
   "metadata": {},
   "source": [
    "## Задание  №8"
   ]
  },
  {
   "cell_type": "markdown",
   "id": "01add381",
   "metadata": {},
   "source": [
    "Напишите программу, моделирующую работу клиентов с банкоматом. В банкомате есть\n",
    "купюры и монеты номиналами: 1, 3, 4, 10, 50, 100, но, в отличие от предыдущей задачи, их\n",
    "количество конечно.\n",
    "В начале работы программы вы задаете:\n",
    "    \n",
    " количество клиентов\n",
    "\n",
    " для каждого клиента количество рублей, которые он хочет снять (считаем, что эта\n",
    "сумма всегда корректна и имеется на счету клиента)\n",
    "\n",
    " изначальное количество купюр и монет в банкомате\n",
    "\n",
    "Далее вы по очереди обрабатываете запросы клиентов. Для каждого клиента выведите на\n",
    "экран минимальный набор купюр и монет для его суммы или сообщение о невозможности\n",
    "предоставить данную суммы из-за нехватки купюр и монет. Если минимальный набор\n",
    "найден успешно, то вычтите его из запасов банкомата и выведите на экран получившейся\n",
    "остаток.\n",
    "Проведите несколько запусков программы с разными начальными данными и различными\n",
    "исходами работы с банкоматом."
   ]
  },
  {
   "cell_type": "code",
   "execution_count": 14,
   "id": "5e6e1859",
   "metadata": {},
   "outputs": [
    {
     "name": "stdout",
     "output_type": "stream",
     "text": [
      "Кол-во клиентов: 2\n",
      "Клиент 1 \n",
      "\n",
      "Сумма: 456\n",
      "Выдача:  {100: 4, 50: 1, 3: 2}\n",
      "Банк: {1: 10, 3: 3, 4: 4, 10: 10, 50: 2, 100: 0} \n",
      "\n",
      "Клиент 2 \n",
      "\n",
      "Сумма: 123\n",
      "Сумму выдать невозможно\n"
     ]
    }
   ],
   "source": [
    "bank = {\n",
    "    1: 10,\n",
    "    3: 5,\n",
    "    4: 4,\n",
    "    10: 10,\n",
    "    50: 3,\n",
    "    100: 4,\n",
    "}\n",
    "\n",
    "denominations = [1, 3, 4, 10, 50, 100]\n",
    "\n",
    "clients_num = int(input(\"Кол-во клиентов: \"))\n",
    "\n",
    "for c in range(clients_num):\n",
    "    print(\"Клиент\", c + 1, '\\n')\n",
    "    sum = int(input(\"Сумма: \"))\n",
    "    lookup = [float(\"inf\")] * (sum + 1)\n",
    "    lookup[0] = 0\n",
    "    for m in range(1, sum + 1):\n",
    "        for i in range(len(denominations)):\n",
    "            if m >= denominations[i] and lookup[m-denominations[i]] + 1 < lookup[m]:\n",
    "                lookup[m] = lookup[m-denominations[i]] + 1\n",
    "\n",
    "    result = {}\n",
    "    while (sum > 0):\n",
    "        for i in range(len(denominations)):\n",
    "            if lookup[sum - denominations[i]] == lookup[sum] - 1:\n",
    "                sum -= denominations[i]\n",
    "                if denominations[i] in result:\n",
    "                    result[denominations[i]] += 1\n",
    "                else:\n",
    "                    result[denominations[i]] = 1\n",
    "                break\n",
    "\n",
    "    result_keys = list(result.keys())\n",
    "    bank_c = bank.copy()\n",
    "\n",
    "    status = True\n",
    "    for denomination in result_keys:\n",
    "        bank_c[denomination] -= result[denomination]\n",
    "        if bank_c[denomination] < 0:\n",
    "            status = False\n",
    "            break\n",
    "    if status:\n",
    "        bank = bank_c\n",
    "        sorted_tuple = sorted(result.items(), key=lambda x: -x[0])\n",
    "        print(\"Выдача: \", dict(sorted_tuple))\n",
    "        print(\"Банк:\", bank, '\\n')\n",
    "    else:\n",
    "        print(\"Сумму выдать невозможно\")"
   ]
  }
 ],
 "metadata": {
  "kernelspec": {
   "display_name": "Python 3 (ipykernel)",
   "language": "python",
   "name": "python3"
  },
  "language_info": {
   "codemirror_mode": {
    "name": "ipython",
    "version": 3
   },
   "file_extension": ".py",
   "mimetype": "text/x-python",
   "name": "python",
   "nbconvert_exporter": "python",
   "pygments_lexer": "ipython3",
   "version": "3.11.0"
  }
 },
 "nbformat": 4,
 "nbformat_minor": 5
}
